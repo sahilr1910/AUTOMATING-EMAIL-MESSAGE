{
 "cells": [
  {
   "cell_type": "code",
   "execution_count": 24,
   "id": "84d8c5ee",
   "metadata": {},
   "outputs": [],
   "source": [
    "#Importing all necessary libraries\n",
    "import pandas as pd\n",
    "import numpy as np\n",
    "import smtplib as sm\n",
    "from email.mime.multipart import MIMEMultipart  #library for multitextual message\n",
    "from email.mime.text import MIMEText  #library for text message\n",
    "import matplotlib.pyplot as plt\n",
    "import warnings\n",
    "warnings.filterwarnings('ignore')"
   ]
  },
  {
   "cell_type": "code",
   "execution_count": 25,
   "id": "5bd0c0ed",
   "metadata": {},
   "outputs": [],
   "source": [
    "#Opening the excel file using pandas \n",
    "d = pd.read_excel('info.xlsx')"
   ]
  },
  {
   "cell_type": "code",
   "execution_count": 26,
   "id": "65fe2881",
   "metadata": {},
   "outputs": [
    {
     "name": "stdout",
     "output_type": "stream",
     "text": [
      "<class 'pandas.core.frame.DataFrame'>\n"
     ]
    }
   ],
   "source": [
    "#checking the datatype of object\n",
    "print(type(d))"
   ]
  },
  {
   "cell_type": "code",
   "execution_count": 27,
   "id": "0bfaa88e",
   "metadata": {},
   "outputs": [],
   "source": [
    "#loading email column from file in variable\n",
    "emailcol  = d.get('EMAIL')"
   ]
  },
  {
   "cell_type": "code",
   "execution_count": 28,
   "id": "c3d15ece",
   "metadata": {},
   "outputs": [
    {
     "name": "stdout",
     "output_type": "stream",
     "text": [
      "0        rustagisahil296@gmail.com\n",
      "1         meenarustagi95@gmail.com\n",
      "2        aditirustagi998@gmail.com\n",
      "3    sanjeevkumar.hilife@gmail.com\n",
      "4         ayushgarg22.ag@gmail.com\n",
      "5           mehta.nipun12@gmal.com\n",
      "6          jainpurnima09@gmail.com\n",
      "7     sanskarshivhare125@gmail.com\n",
      "8         sonyvaioanshul@gmail.com\n",
      "Name: EMAIL, dtype: object\n"
     ]
    }
   ],
   "source": [
    "print(emailcol)"
   ]
  },
  {
   "cell_type": "code",
   "execution_count": 29,
   "id": "9379b77b",
   "metadata": {},
   "outputs": [],
   "source": [
    "#converting it into a list\n",
    "list_of_emails = list(emailcol)"
   ]
  },
  {
   "cell_type": "code",
   "execution_count": 30,
   "id": "6ef8a031",
   "metadata": {},
   "outputs": [
    {
     "name": "stdout",
     "output_type": "stream",
     "text": [
      "['rustagisahil296@gmail.com', 'meenarustagi95@gmail.com', 'aditirustagi998@gmail.com', 'sanjeevkumar.hilife@gmail.com', 'ayushgarg22.ag@gmail.com', 'mehta.nipun12@gmal.com', 'jainpurnima09@gmail.com', 'sanskarshivhare125@gmail.com', 'sonyvaioanshul@gmail.com']\n"
     ]
    }
   ],
   "source": [
    "print(list_of_emails)"
   ]
  },
  {
   "cell_type": "code",
   "execution_count": 31,
   "id": "aba3f64c",
   "metadata": {},
   "outputs": [
    {
     "name": "stdout",
     "output_type": "stream",
     "text": [
      "message has been sent to an email\n"
     ]
    }
   ],
   "source": [
    "try:\n",
    "    server = sm.SMTP(\"smtp.gmail.com\",587)\n",
    "    server.starttls()\n",
    "    server.login('rustagisahil1910@gmail.com','jrpn invx ijsx kmvd') #logging in the account\n",
    "    from_ = 'rustagisahil1910@gmail.com'\n",
    "    to_ = list_of_emails\n",
    "    message = MIMEMultipart('alternative')\n",
    "    message['Subject'] = 'Application for Enrolling in Data Science Course'\n",
    "    message['from'] = 'rustagisahil1910@gmail.com'\n",
    "    \n",
    "  #creatig a text in the form of html  \n",
    "    html = '''\n",
    "    <html>\n",
    "    <head>\n",
    "    \n",
    "    \n",
    "    </head>\n",
    "    <body>\n",
    "        <h1>Learn all concepts data science from Aichamp@SR</h1>\n",
    "        <h2>Subscribe to my all awesome videos and channel for the latest updates</h2>\n",
    "        <p>this is just testing purpose</p>\n",
    "        <button style = \"padding:20px;background:green;color:white\">Click to get into Website\n",
    "     \n",
    "    </body>\n",
    "    \n",
    "    </html>\n",
    "    \n",
    "    '''\n",
    "    \n",
    "    text = MIMEText(html,'html')\n",
    "    \n",
    "    message.attach(text)\n",
    "    #sending the message\n",
    "    server.sendmail(from_,to_,message.as_string())\n",
    "    print('message has been sent to an email')\n",
    "    \n",
    "except Exception as e:\n",
    "    print(e)\n"
   ]
  },
  {
   "cell_type": "code",
   "execution_count": null,
   "id": "9ee65919",
   "metadata": {},
   "outputs": [],
   "source": []
  },
  {
   "cell_type": "code",
   "execution_count": null,
   "id": "c34c8ddf",
   "metadata": {},
   "outputs": [],
   "source": []
  },
  {
   "cell_type": "code",
   "execution_count": null,
   "id": "14fe8812",
   "metadata": {},
   "outputs": [],
   "source": []
  },
  {
   "cell_type": "code",
   "execution_count": null,
   "id": "2bf56339",
   "metadata": {},
   "outputs": [],
   "source": []
  },
  {
   "cell_type": "code",
   "execution_count": null,
   "id": "a1144b34",
   "metadata": {},
   "outputs": [],
   "source": []
  },
  {
   "cell_type": "code",
   "execution_count": null,
   "id": "71c9ca6a",
   "metadata": {},
   "outputs": [],
   "source": []
  },
  {
   "cell_type": "code",
   "execution_count": null,
   "id": "7c12a425",
   "metadata": {},
   "outputs": [],
   "source": []
  },
  {
   "cell_type": "code",
   "execution_count": null,
   "id": "88553fec",
   "metadata": {},
   "outputs": [],
   "source": []
  },
  {
   "cell_type": "code",
   "execution_count": null,
   "id": "92f8449a",
   "metadata": {},
   "outputs": [],
   "source": []
  },
  {
   "cell_type": "code",
   "execution_count": null,
   "id": "d5d9d51c",
   "metadata": {},
   "outputs": [],
   "source": []
  },
  {
   "cell_type": "code",
   "execution_count": null,
   "id": "bafb83cb",
   "metadata": {},
   "outputs": [],
   "source": []
  },
  {
   "cell_type": "code",
   "execution_count": null,
   "id": "694c1e48",
   "metadata": {},
   "outputs": [],
   "source": []
  },
  {
   "cell_type": "code",
   "execution_count": null,
   "id": "e156e3c5",
   "metadata": {},
   "outputs": [],
   "source": []
  },
  {
   "cell_type": "code",
   "execution_count": null,
   "id": "34a46516",
   "metadata": {},
   "outputs": [],
   "source": []
  }
 ],
 "metadata": {
  "kernelspec": {
   "display_name": "Python 3 (ipykernel)",
   "language": "python",
   "name": "python3"
  },
  "language_info": {
   "codemirror_mode": {
    "name": "ipython",
    "version": 3
   },
   "file_extension": ".py",
   "mimetype": "text/x-python",
   "name": "python",
   "nbconvert_exporter": "python",
   "pygments_lexer": "ipython3",
   "version": "3.10.9"
  }
 },
 "nbformat": 4,
 "nbformat_minor": 5
}
